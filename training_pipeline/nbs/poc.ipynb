{
 "cells": [
  {
   "cell_type": "code",
   "execution_count": 1,
   "id": "72b3d3b2-8858-4082-8302-043991dc4896",
   "metadata": {},
   "outputs": [
    {
     "name": "stdout",
     "output_type": "stream",
     "text": [
      "/home/quyanh/Projects/credit-ranking/src/training_pipeline/nbs\n"
     ]
    }
   ],
   "source": [
    "!pwd"
   ]
  },
  {
   "cell_type": "code",
   "execution_count": 11,
   "id": "8ba460e3-78ed-406b-9db7-a322a723709a",
   "metadata": {},
   "outputs": [],
   "source": [
    "import pandas as pd\n",
    "from pathlib import Path\n",
    "import numpy as np\n",
    "\n",
    "SEED = 43\n",
    "np.random.seed(SEED)"
   ]
  },
  {
   "cell_type": "markdown",
   "id": "c4392500-f1df-40a1-ae67-e3f07a9e4dc5",
   "metadata": {},
   "source": [
    "# Load Data"
   ]
  },
  {
   "cell_type": "code",
   "execution_count": 5,
   "id": "41260c15-f063-4eeb-bf66-3f8bfd98dd4d",
   "metadata": {},
   "outputs": [],
   "source": [
    "DATA_DIR = Path(\"../data\")\n",
    "FILE_NAME = \"credit-dataset.parquet\"\n",
    "DATA_PATH = DATA_DIR / FILE_NAME\n",
    "\n",
    "if not DATA_PATH.is_file():\n",
    "    raise Exception(\"DATA_PATH not found\")"
   ]
  },
  {
   "cell_type": "code",
   "execution_count": 8,
   "id": "55b45483-df8d-47b2-8133-2b8d2e06bcd7",
   "metadata": {},
   "outputs": [
    {
     "data": {
      "text/html": [
       "<div>\n",
       "<style scoped>\n",
       "    .dataframe tbody tr th:only-of-type {\n",
       "        vertical-align: middle;\n",
       "    }\n",
       "\n",
       "    .dataframe tbody tr th {\n",
       "        vertical-align: top;\n",
       "    }\n",
       "\n",
       "    .dataframe thead th {\n",
       "        text-align: right;\n",
       "    }\n",
       "</style>\n",
       "<table border=\"1\" class=\"dataframe\">\n",
       "  <thead>\n",
       "    <tr style=\"text-align: right;\">\n",
       "      <th></th>\n",
       "      <th>id</th>\n",
       "      <th>income_expenditure_difference</th>\n",
       "      <th>income</th>\n",
       "      <th>total_expenses</th>\n",
       "      <th>loan_term</th>\n",
       "      <th>expected_loan_interest</th>\n",
       "      <th>result</th>\n",
       "      <th>event_timestamp</th>\n",
       "    </tr>\n",
       "  </thead>\n",
       "  <tbody>\n",
       "    <tr>\n",
       "      <th>0</th>\n",
       "      <td>0</td>\n",
       "      <td>17520000.00</td>\n",
       "      <td>30500000.00</td>\n",
       "      <td>12980000.0</td>\n",
       "      <td>12.0</td>\n",
       "      <td>980000.0</td>\n",
       "      <td>AA-</td>\n",
       "      <td>2024-03-30 14:45:28.686584+00:00</td>\n",
       "    </tr>\n",
       "    <tr>\n",
       "      <th>1</th>\n",
       "      <td>1</td>\n",
       "      <td>4749121.67</td>\n",
       "      <td>7219121.67</td>\n",
       "      <td>2470000.0</td>\n",
       "      <td>60.0</td>\n",
       "      <td>2470000.0</td>\n",
       "      <td>A+</td>\n",
       "      <td>2024-03-30 14:45:28.686584+00:00</td>\n",
       "    </tr>\n",
       "    <tr>\n",
       "      <th>2</th>\n",
       "      <td>2</td>\n",
       "      <td>668138.00</td>\n",
       "      <td>5668138.00</td>\n",
       "      <td>5000000.0</td>\n",
       "      <td>12.0</td>\n",
       "      <td>0.0</td>\n",
       "      <td>A+</td>\n",
       "      <td>2024-03-30 14:45:28.686584+00:00</td>\n",
       "    </tr>\n",
       "    <tr>\n",
       "      <th>3</th>\n",
       "      <td>3</td>\n",
       "      <td>9016754.00</td>\n",
       "      <td>22266754.00</td>\n",
       "      <td>13250000.0</td>\n",
       "      <td>12.0</td>\n",
       "      <td>9250000.0</td>\n",
       "      <td>AA+</td>\n",
       "      <td>2024-03-30 14:45:28.686584+00:00</td>\n",
       "    </tr>\n",
       "    <tr>\n",
       "      <th>4</th>\n",
       "      <td>4</td>\n",
       "      <td>22579692.00</td>\n",
       "      <td>35614692.00</td>\n",
       "      <td>13035000.0</td>\n",
       "      <td>60.0</td>\n",
       "      <td>9035000.0</td>\n",
       "      <td>A+</td>\n",
       "      <td>2024-03-30 14:45:28.686584+00:00</td>\n",
       "    </tr>\n",
       "  </tbody>\n",
       "</table>\n",
       "</div>"
      ],
      "text/plain": [
       "   id  income_expenditure_difference       income  total_expenses  loan_term  \\\n",
       "0   0                    17520000.00  30500000.00      12980000.0       12.0   \n",
       "1   1                     4749121.67   7219121.67       2470000.0       60.0   \n",
       "2   2                      668138.00   5668138.00       5000000.0       12.0   \n",
       "3   3                     9016754.00  22266754.00      13250000.0       12.0   \n",
       "4   4                    22579692.00  35614692.00      13035000.0       60.0   \n",
       "\n",
       "   expected_loan_interest result                  event_timestamp  \n",
       "0                980000.0    AA- 2024-03-30 14:45:28.686584+00:00  \n",
       "1               2470000.0     A+ 2024-03-30 14:45:28.686584+00:00  \n",
       "2                     0.0     A+ 2024-03-30 14:45:28.686584+00:00  \n",
       "3               9250000.0    AA+ 2024-03-30 14:45:28.686584+00:00  \n",
       "4               9035000.0     A+ 2024-03-30 14:45:28.686584+00:00  "
      ]
     },
     "execution_count": 8,
     "metadata": {},
     "output_type": "execute_result"
    }
   ],
   "source": [
    "df = pd.read_parquet(DATA_PATH)\n",
    "df.head()"
   ]
  },
  {
   "cell_type": "code",
   "execution_count": 18,
   "id": "e49cc7b2-236d-49a7-9570-efad8735d617",
   "metadata": {},
   "outputs": [
    {
     "name": "stdout",
     "output_type": "stream",
     "text": [
      "<class 'pandas.core.frame.DataFrame'>\n",
      "RangeIndex: 120017 entries, 0 to 120016\n",
      "Data columns (total 8 columns):\n",
      " #   Column                         Non-Null Count   Dtype              \n",
      "---  ------                         --------------   -----              \n",
      " 0   id                             120017 non-null  int64              \n",
      " 1   income_expenditure_difference  120017 non-null  float64            \n",
      " 2   income                         120017 non-null  float64            \n",
      " 3   total_expenses                 120017 non-null  float64            \n",
      " 4   loan_term                      120017 non-null  float64            \n",
      " 5   expected_loan_interest         120017 non-null  float64            \n",
      " 6   result                         120017 non-null  object             \n",
      " 7   event_timestamp                120017 non-null  datetime64[ns, UTC]\n",
      "dtypes: datetime64[ns, UTC](1), float64(5), int64(1), object(1)\n",
      "memory usage: 7.3+ MB\n"
     ]
    }
   ],
   "source": [
    "df.info()"
   ]
  },
  {
   "cell_type": "code",
   "execution_count": 20,
   "id": "1f179773-0a4a-4287-a7ca-9b4db479e395",
   "metadata": {},
   "outputs": [
    {
     "data": {
      "text/html": [
       "<div>\n",
       "<style scoped>\n",
       "    .dataframe tbody tr th:only-of-type {\n",
       "        vertical-align: middle;\n",
       "    }\n",
       "\n",
       "    .dataframe tbody tr th {\n",
       "        vertical-align: top;\n",
       "    }\n",
       "\n",
       "    .dataframe thead th {\n",
       "        text-align: right;\n",
       "    }\n",
       "</style>\n",
       "<table border=\"1\" class=\"dataframe\">\n",
       "  <thead>\n",
       "    <tr style=\"text-align: right;\">\n",
       "      <th></th>\n",
       "      <th>id</th>\n",
       "      <th>income_expenditure_difference</th>\n",
       "      <th>income</th>\n",
       "      <th>total_expenses</th>\n",
       "      <th>loan_term</th>\n",
       "      <th>expected_loan_interest</th>\n",
       "    </tr>\n",
       "  </thead>\n",
       "  <tbody>\n",
       "    <tr>\n",
       "      <th>count</th>\n",
       "      <td>120017.000000</td>\n",
       "      <td>1.200170e+05</td>\n",
       "      <td>1.200170e+05</td>\n",
       "      <td>1.200170e+05</td>\n",
       "      <td>120017.000000</td>\n",
       "      <td>1.200170e+05</td>\n",
       "    </tr>\n",
       "    <tr>\n",
       "      <th>mean</th>\n",
       "      <td>60014.127657</td>\n",
       "      <td>-1.179054e+09</td>\n",
       "      <td>3.909241e+08</td>\n",
       "      <td>1.569876e+09</td>\n",
       "      <td>44.229368</td>\n",
       "      <td>4.949105e+06</td>\n",
       "    </tr>\n",
       "    <tr>\n",
       "      <th>std</th>\n",
       "      <td>34656.541324</td>\n",
       "      <td>2.110600e+11</td>\n",
       "      <td>8.388650e+10</td>\n",
       "      <td>1.936718e+11</td>\n",
       "      <td>70.941731</td>\n",
       "      <td>1.155007e+09</td>\n",
       "    </tr>\n",
       "    <tr>\n",
       "      <th>min</th>\n",
       "      <td>0.000000</td>\n",
       "      <td>-3.976154e+13</td>\n",
       "      <td>0.000000e+00</td>\n",
       "      <td>0.000000e+00</td>\n",
       "      <td>0.000000</td>\n",
       "      <td>0.000000e+00</td>\n",
       "    </tr>\n",
       "    <tr>\n",
       "      <th>25%</th>\n",
       "      <td>30004.000000</td>\n",
       "      <td>0.000000e+00</td>\n",
       "      <td>5.100000e+06</td>\n",
       "      <td>0.000000e+00</td>\n",
       "      <td>12.000000</td>\n",
       "      <td>0.000000e+00</td>\n",
       "    </tr>\n",
       "    <tr>\n",
       "      <th>50%</th>\n",
       "      <td>60008.000000</td>\n",
       "      <td>8.419780e+06</td>\n",
       "      <td>1.538000e+07</td>\n",
       "      <td>5.000000e+06</td>\n",
       "      <td>12.000000</td>\n",
       "      <td>0.000000e+00</td>\n",
       "    </tr>\n",
       "    <tr>\n",
       "      <th>75%</th>\n",
       "      <td>90012.000000</td>\n",
       "      <td>1.658333e+07</td>\n",
       "      <td>2.500000e+07</td>\n",
       "      <td>8.500000e+06</td>\n",
       "      <td>60.000000</td>\n",
       "      <td>1.000000e+06</td>\n",
       "    </tr>\n",
       "    <tr>\n",
       "      <th>max</th>\n",
       "      <td>124049.000000</td>\n",
       "      <td>2.792103e+13</td>\n",
       "      <td>2.792104e+13</td>\n",
       "      <td>3.976205e+13</td>\n",
       "      <td>1092.000000</td>\n",
       "      <td>4.000015e+11</td>\n",
       "    </tr>\n",
       "  </tbody>\n",
       "</table>\n",
       "</div>"
      ],
      "text/plain": [
       "                  id  income_expenditure_difference        income  \\\n",
       "count  120017.000000                   1.200170e+05  1.200170e+05   \n",
       "mean    60014.127657                  -1.179054e+09  3.909241e+08   \n",
       "std     34656.541324                   2.110600e+11  8.388650e+10   \n",
       "min         0.000000                  -3.976154e+13  0.000000e+00   \n",
       "25%     30004.000000                   0.000000e+00  5.100000e+06   \n",
       "50%     60008.000000                   8.419780e+06  1.538000e+07   \n",
       "75%     90012.000000                   1.658333e+07  2.500000e+07   \n",
       "max    124049.000000                   2.792103e+13  2.792104e+13   \n",
       "\n",
       "       total_expenses      loan_term  expected_loan_interest  \n",
       "count    1.200170e+05  120017.000000            1.200170e+05  \n",
       "mean     1.569876e+09      44.229368            4.949105e+06  \n",
       "std      1.936718e+11      70.941731            1.155007e+09  \n",
       "min      0.000000e+00       0.000000            0.000000e+00  \n",
       "25%      0.000000e+00      12.000000            0.000000e+00  \n",
       "50%      5.000000e+06      12.000000            0.000000e+00  \n",
       "75%      8.500000e+06      60.000000            1.000000e+06  \n",
       "max      3.976205e+13    1092.000000            4.000015e+11  "
      ]
     },
     "execution_count": 20,
     "metadata": {},
     "output_type": "execute_result"
    }
   ],
   "source": [
    "df.describe()"
   ]
  },
  {
   "cell_type": "markdown",
   "id": "3876d97a-7c4f-4269-8a69-151bb92b1775",
   "metadata": {},
   "source": [
    "# EDA"
   ]
  },
  {
   "cell_type": "code",
   "execution_count": null,
   "id": "beee586e-e432-4a36-854e-2f4e481eb863",
   "metadata": {},
   "outputs": [],
   "source": []
  },
  {
   "cell_type": "markdown",
   "id": "c5507191-8da1-43a1-be1b-b13d2a79429a",
   "metadata": {},
   "source": [
    "# Processing"
   ]
  },
  {
   "cell_type": "code",
   "execution_count": 25,
   "id": "f423a270-1d79-4167-a6b9-a41799d5bda8",
   "metadata": {},
   "outputs": [
    {
     "data": {
      "text/plain": [
       "(['income_expenditure_difference',\n",
       "  'income',\n",
       "  'total_expenses',\n",
       "  'loan_term',\n",
       "  'expected_loan_interest'],\n",
       " 'result')"
      ]
     },
     "execution_count": 25,
     "metadata": {},
     "output_type": "execute_result"
    }
   ],
   "source": [
    "features_name = df.columns[1:-2].tolist()\n",
    "target_name = df.columns[-2]\n",
    "features_name, target_name"
   ]
  },
  {
   "cell_type": "code",
   "execution_count": 27,
   "id": "fc0db7d2-2382-4f2b-8fe1-09767925c9d2",
   "metadata": {},
   "outputs": [
    {
     "data": {
      "text/plain": [
       "array(['AA-', 'A+', 'AA+', 'BBB', 'A-', 'A', 'AA', 'AAA', 'BB', 'B'],\n",
       "      dtype=object)"
      ]
     },
     "execution_count": 27,
     "metadata": {},
     "output_type": "execute_result"
    }
   ],
   "source": [
    "labels = df[target_name].unique()\n",
    "labels"
   ]
  },
  {
   "cell_type": "code",
   "execution_count": 31,
   "id": "458ce6d3-cc8a-449d-90a5-be9fd31157ab",
   "metadata": {},
   "outputs": [
    {
     "data": {
      "text/plain": [
       "{'AA-': 0,\n",
       " 'A+': 1,\n",
       " 'AA+': 2,\n",
       " 'BBB': 3,\n",
       " 'A-': 4,\n",
       " 'A': 5,\n",
       " 'AA': 6,\n",
       " 'AAA': 7,\n",
       " 'BB': 8,\n",
       " 'B': 9}"
      ]
     },
     "execution_count": 31,
     "metadata": {},
     "output_type": "execute_result"
    }
   ],
   "source": [
    "# id_to_labels = dict(enumerate(labels))\n",
    "label_to_ids = {l: i for i, l in enumerate(labels)}\n",
    "label_to_ids"
   ]
  },
  {
   "cell_type": "code",
   "execution_count": 32,
   "id": "85d92cb2-bbab-46b6-be11-5cb5faa8e547",
   "metadata": {},
   "outputs": [
    {
     "data": {
      "text/html": [
       "<div>\n",
       "<style scoped>\n",
       "    .dataframe tbody tr th:only-of-type {\n",
       "        vertical-align: middle;\n",
       "    }\n",
       "\n",
       "    .dataframe tbody tr th {\n",
       "        vertical-align: top;\n",
       "    }\n",
       "\n",
       "    .dataframe thead th {\n",
       "        text-align: right;\n",
       "    }\n",
       "</style>\n",
       "<table border=\"1\" class=\"dataframe\">\n",
       "  <thead>\n",
       "    <tr style=\"text-align: right;\">\n",
       "      <th></th>\n",
       "      <th>id</th>\n",
       "      <th>income_expenditure_difference</th>\n",
       "      <th>income</th>\n",
       "      <th>total_expenses</th>\n",
       "      <th>loan_term</th>\n",
       "      <th>expected_loan_interest</th>\n",
       "      <th>result</th>\n",
       "      <th>event_timestamp</th>\n",
       "    </tr>\n",
       "  </thead>\n",
       "  <tbody>\n",
       "    <tr>\n",
       "      <th>0</th>\n",
       "      <td>0</td>\n",
       "      <td>17520000.00</td>\n",
       "      <td>30500000.00</td>\n",
       "      <td>12980000.0</td>\n",
       "      <td>12.0</td>\n",
       "      <td>980000.0</td>\n",
       "      <td>0</td>\n",
       "      <td>2024-03-30 14:45:28.686584+00:00</td>\n",
       "    </tr>\n",
       "    <tr>\n",
       "      <th>1</th>\n",
       "      <td>1</td>\n",
       "      <td>4749121.67</td>\n",
       "      <td>7219121.67</td>\n",
       "      <td>2470000.0</td>\n",
       "      <td>60.0</td>\n",
       "      <td>2470000.0</td>\n",
       "      <td>1</td>\n",
       "      <td>2024-03-30 14:45:28.686584+00:00</td>\n",
       "    </tr>\n",
       "    <tr>\n",
       "      <th>2</th>\n",
       "      <td>2</td>\n",
       "      <td>668138.00</td>\n",
       "      <td>5668138.00</td>\n",
       "      <td>5000000.0</td>\n",
       "      <td>12.0</td>\n",
       "      <td>0.0</td>\n",
       "      <td>1</td>\n",
       "      <td>2024-03-30 14:45:28.686584+00:00</td>\n",
       "    </tr>\n",
       "    <tr>\n",
       "      <th>3</th>\n",
       "      <td>3</td>\n",
       "      <td>9016754.00</td>\n",
       "      <td>22266754.00</td>\n",
       "      <td>13250000.0</td>\n",
       "      <td>12.0</td>\n",
       "      <td>9250000.0</td>\n",
       "      <td>2</td>\n",
       "      <td>2024-03-30 14:45:28.686584+00:00</td>\n",
       "    </tr>\n",
       "    <tr>\n",
       "      <th>4</th>\n",
       "      <td>4</td>\n",
       "      <td>22579692.00</td>\n",
       "      <td>35614692.00</td>\n",
       "      <td>13035000.0</td>\n",
       "      <td>60.0</td>\n",
       "      <td>9035000.0</td>\n",
       "      <td>1</td>\n",
       "      <td>2024-03-30 14:45:28.686584+00:00</td>\n",
       "    </tr>\n",
       "  </tbody>\n",
       "</table>\n",
       "</div>"
      ],
      "text/plain": [
       "   id  income_expenditure_difference       income  total_expenses  loan_term  \\\n",
       "0   0                    17520000.00  30500000.00      12980000.0       12.0   \n",
       "1   1                     4749121.67   7219121.67       2470000.0       60.0   \n",
       "2   2                      668138.00   5668138.00       5000000.0       12.0   \n",
       "3   3                     9016754.00  22266754.00      13250000.0       12.0   \n",
       "4   4                    22579692.00  35614692.00      13035000.0       60.0   \n",
       "\n",
       "   expected_loan_interest  result                  event_timestamp  \n",
       "0                980000.0       0 2024-03-30 14:45:28.686584+00:00  \n",
       "1               2470000.0       1 2024-03-30 14:45:28.686584+00:00  \n",
       "2                     0.0       1 2024-03-30 14:45:28.686584+00:00  \n",
       "3               9250000.0       2 2024-03-30 14:45:28.686584+00:00  \n",
       "4               9035000.0       1 2024-03-30 14:45:28.686584+00:00  "
      ]
     },
     "execution_count": 32,
     "metadata": {},
     "output_type": "execute_result"
    }
   ],
   "source": [
    "# Replace\n",
    "df[target_name] = df[target_name].replace(label_to_ids)\n",
    "df.head()"
   ]
  },
  {
   "cell_type": "markdown",
   "id": "f542d4a8-8abb-46b2-8db5-89d9fd0caba4",
   "metadata": {},
   "source": [
    "# Split"
   ]
  },
  {
   "cell_type": "code",
   "execution_count": 33,
   "id": "5e8eaae1-f8a8-41b3-9f0b-6fe8c246ec25",
   "metadata": {},
   "outputs": [
    {
     "data": {
      "text/plain": [
       "(['income_expenditure_difference',\n",
       "  'income',\n",
       "  'total_expenses',\n",
       "  'loan_term',\n",
       "  'expected_loan_interest'],\n",
       " 'result')"
      ]
     },
     "execution_count": 33,
     "metadata": {},
     "output_type": "execute_result"
    }
   ],
   "source": [
    "features_name = df.columns[1:-2].tolist()\n",
    "target_name = df.columns[-2]\n",
    "features_name, target_name"
   ]
  },
  {
   "cell_type": "code",
   "execution_count": 40,
   "id": "06fd2623-1852-470f-ae8b-5eba2a9c19e6",
   "metadata": {},
   "outputs": [
    {
     "data": {
      "text/plain": [
       "9    29680\n",
       "2    20362\n",
       "6    18631\n",
       "0    18195\n",
       "1    14479\n",
       "5     6939\n",
       "4     4848\n",
       "7     4516\n",
       "3     1625\n",
       "8      742\n",
       "Name: result, dtype: int64"
      ]
     },
     "execution_count": 40,
     "metadata": {},
     "output_type": "execute_result"
    }
   ],
   "source": [
    "df[target_name].value_counts()"
   ]
  },
  {
   "cell_type": "code",
   "execution_count": 34,
   "id": "824daefe-8a15-441a-896e-be403e89de52",
   "metadata": {},
   "outputs": [
    {
     "data": {
      "text/plain": [
       "((96013, 5), (24004, 5), (96013,), (24004,))"
      ]
     },
     "execution_count": 34,
     "metadata": {},
     "output_type": "execute_result"
    }
   ],
   "source": [
    "from sklearn.linear_model import ElasticNet\n",
    "from sklearn.model_selection import train_test_split\n",
    "from sklearn.metrics import mean_squared_error, mean_absolute_error, r2_score\n",
    "\n",
    "TEST_SIZE = 0.2\n",
    "X, y = df[features_name], df[target_name]\n",
    "X_train, X_test, y_train, y_test = train_test_split(X, y, test_size=TEST_SIZE, random_state=SEED)\n",
    "X_train.shape, X_test.shape, y_train.shape, y_test.shape"
   ]
  },
  {
   "cell_type": "code",
   "execution_count": null,
   "id": "3e18390e-0ea6-439b-bfe1-440311d5a25b",
   "metadata": {},
   "outputs": [],
   "source": []
  },
  {
   "cell_type": "markdown",
   "id": "e0bbbe20-55ef-4533-bf9a-59b171be0dfe",
   "metadata": {},
   "source": [
    "# Training model"
   ]
  },
  {
   "cell_type": "code",
   "execution_count": 43,
   "id": "3c40ca67-5e3a-4bcb-b649-04c6673467ea",
   "metadata": {},
   "outputs": [
    {
     "data": {
      "text/html": [
       "<style>#sk-container-id-3 {color: black;}#sk-container-id-3 pre{padding: 0;}#sk-container-id-3 div.sk-toggleable {background-color: white;}#sk-container-id-3 label.sk-toggleable__label {cursor: pointer;display: block;width: 100%;margin-bottom: 0;padding: 0.3em;box-sizing: border-box;text-align: center;}#sk-container-id-3 label.sk-toggleable__label-arrow:before {content: \"▸\";float: left;margin-right: 0.25em;color: #696969;}#sk-container-id-3 label.sk-toggleable__label-arrow:hover:before {color: black;}#sk-container-id-3 div.sk-estimator:hover label.sk-toggleable__label-arrow:before {color: black;}#sk-container-id-3 div.sk-toggleable__content {max-height: 0;max-width: 0;overflow: hidden;text-align: left;background-color: #f0f8ff;}#sk-container-id-3 div.sk-toggleable__content pre {margin: 0.2em;color: black;border-radius: 0.25em;background-color: #f0f8ff;}#sk-container-id-3 input.sk-toggleable__control:checked~div.sk-toggleable__content {max-height: 200px;max-width: 100%;overflow: auto;}#sk-container-id-3 input.sk-toggleable__control:checked~label.sk-toggleable__label-arrow:before {content: \"▾\";}#sk-container-id-3 div.sk-estimator input.sk-toggleable__control:checked~label.sk-toggleable__label {background-color: #d4ebff;}#sk-container-id-3 div.sk-label input.sk-toggleable__control:checked~label.sk-toggleable__label {background-color: #d4ebff;}#sk-container-id-3 input.sk-hidden--visually {border: 0;clip: rect(1px 1px 1px 1px);clip: rect(1px, 1px, 1px, 1px);height: 1px;margin: -1px;overflow: hidden;padding: 0;position: absolute;width: 1px;}#sk-container-id-3 div.sk-estimator {font-family: monospace;background-color: #f0f8ff;border: 1px dotted black;border-radius: 0.25em;box-sizing: border-box;margin-bottom: 0.5em;}#sk-container-id-3 div.sk-estimator:hover {background-color: #d4ebff;}#sk-container-id-3 div.sk-parallel-item::after {content: \"\";width: 100%;border-bottom: 1px solid gray;flex-grow: 1;}#sk-container-id-3 div.sk-label:hover label.sk-toggleable__label {background-color: #d4ebff;}#sk-container-id-3 div.sk-serial::before {content: \"\";position: absolute;border-left: 1px solid gray;box-sizing: border-box;top: 0;bottom: 0;left: 50%;z-index: 0;}#sk-container-id-3 div.sk-serial {display: flex;flex-direction: column;align-items: center;background-color: white;padding-right: 0.2em;padding-left: 0.2em;position: relative;}#sk-container-id-3 div.sk-item {position: relative;z-index: 1;}#sk-container-id-3 div.sk-parallel {display: flex;align-items: stretch;justify-content: center;background-color: white;position: relative;}#sk-container-id-3 div.sk-item::before, #sk-container-id-3 div.sk-parallel-item::before {content: \"\";position: absolute;border-left: 1px solid gray;box-sizing: border-box;top: 0;bottom: 0;left: 50%;z-index: -1;}#sk-container-id-3 div.sk-parallel-item {display: flex;flex-direction: column;z-index: 1;position: relative;background-color: white;}#sk-container-id-3 div.sk-parallel-item:first-child::after {align-self: flex-end;width: 50%;}#sk-container-id-3 div.sk-parallel-item:last-child::after {align-self: flex-start;width: 50%;}#sk-container-id-3 div.sk-parallel-item:only-child::after {width: 0;}#sk-container-id-3 div.sk-dashed-wrapped {border: 1px dashed gray;margin: 0 0.4em 0.5em 0.4em;box-sizing: border-box;padding-bottom: 0.4em;background-color: white;}#sk-container-id-3 div.sk-label label {font-family: monospace;font-weight: bold;display: inline-block;line-height: 1.2em;}#sk-container-id-3 div.sk-label-container {text-align: center;}#sk-container-id-3 div.sk-container {/* jupyter's `normalize.less` sets `[hidden] { display: none; }` but bootstrap.min.css set `[hidden] { display: none !important; }` so we also need the `!important` here to be able to override the default hidden behavior on the sphinx rendered scikit-learn.org. See: https://github.com/scikit-learn/scikit-learn/issues/21755 */display: inline-block !important;position: relative;}#sk-container-id-3 div.sk-text-repr-fallback {display: none;}</style><div id=\"sk-container-id-3\" class=\"sk-top-container\"><div class=\"sk-text-repr-fallback\"><pre>XGBClassifier(base_score=None, booster=None, callbacks=None,\n",
       "              colsample_bylevel=None, colsample_bynode=None,\n",
       "              colsample_bytree=None, device=None, early_stopping_rounds=None,\n",
       "              enable_categorical=False, eval_metric=None, feature_types=None,\n",
       "              gamma=None, grow_policy=None, importance_type=None,\n",
       "              interaction_constraints=None, learning_rate=None, max_bin=None,\n",
       "              max_cat_threshold=None, max_cat_to_onehot=None,\n",
       "              max_delta_step=None, max_depth=None, max_leaves=None,\n",
       "              min_child_weight=None, missing=nan, monotone_constraints=None,\n",
       "              multi_strategy=None, n_estimators=None, n_jobs=None,\n",
       "              num_parallel_tree=None, objective=&#x27;multi:softprob&#x27;, ...)</pre><b>In a Jupyter environment, please rerun this cell to show the HTML representation or trust the notebook. <br />On GitHub, the HTML representation is unable to render, please try loading this page with nbviewer.org.</b></div><div class=\"sk-container\" hidden><div class=\"sk-item\"><div class=\"sk-estimator sk-toggleable\"><input class=\"sk-toggleable__control sk-hidden--visually\" id=\"sk-estimator-id-3\" type=\"checkbox\" checked><label for=\"sk-estimator-id-3\" class=\"sk-toggleable__label sk-toggleable__label-arrow\">XGBClassifier</label><div class=\"sk-toggleable__content\"><pre>XGBClassifier(base_score=None, booster=None, callbacks=None,\n",
       "              colsample_bylevel=None, colsample_bynode=None,\n",
       "              colsample_bytree=None, device=None, early_stopping_rounds=None,\n",
       "              enable_categorical=False, eval_metric=None, feature_types=None,\n",
       "              gamma=None, grow_policy=None, importance_type=None,\n",
       "              interaction_constraints=None, learning_rate=None, max_bin=None,\n",
       "              max_cat_threshold=None, max_cat_to_onehot=None,\n",
       "              max_delta_step=None, max_depth=None, max_leaves=None,\n",
       "              min_child_weight=None, missing=nan, monotone_constraints=None,\n",
       "              multi_strategy=None, n_estimators=None, n_jobs=None,\n",
       "              num_parallel_tree=None, objective=&#x27;multi:softprob&#x27;, ...)</pre></div></div></div></div></div>"
      ],
      "text/plain": [
       "XGBClassifier(base_score=None, booster=None, callbacks=None,\n",
       "              colsample_bylevel=None, colsample_bynode=None,\n",
       "              colsample_bytree=None, device=None, early_stopping_rounds=None,\n",
       "              enable_categorical=False, eval_metric=None, feature_types=None,\n",
       "              gamma=None, grow_policy=None, importance_type=None,\n",
       "              interaction_constraints=None, learning_rate=None, max_bin=None,\n",
       "              max_cat_threshold=None, max_cat_to_onehot=None,\n",
       "              max_delta_step=None, max_depth=None, max_leaves=None,\n",
       "              min_child_weight=None, missing=nan, monotone_constraints=None,\n",
       "              multi_strategy=None, n_estimators=None, n_jobs=None,\n",
       "              num_parallel_tree=None, objective='multi:softprob', ...)"
      ]
     },
     "execution_count": 43,
     "metadata": {},
     "output_type": "execute_result"
    }
   ],
   "source": [
    "from xgboost import XGBClassifier\n",
    "\n",
    "model = XGBClassifier()\n",
    "model.fit(X_train, y_train)"
   ]
  },
  {
   "cell_type": "code",
   "execution_count": null,
   "id": "fdb30401-5f58-4fb3-b7b7-6fcf40d880cf",
   "metadata": {},
   "outputs": [],
   "source": []
  },
  {
   "cell_type": "markdown",
   "id": "0173833a-879b-49e0-98e5-1ea6fd097c82",
   "metadata": {},
   "source": [
    "# Evaluation"
   ]
  },
  {
   "cell_type": "code",
   "execution_count": 44,
   "id": "072ca317-ce2a-4752-8a68-9f995ac1af54",
   "metadata": {},
   "outputs": [
    {
     "name": "stdout",
     "output_type": "stream",
     "text": [
      "              precision    recall  f1-score   support\n",
      "\n",
      "           0       0.26      0.25      0.25      3581\n",
      "           1       0.29      0.27      0.28      2981\n",
      "           2       0.36      0.71      0.48      4061\n",
      "           3       0.19      0.03      0.05       330\n",
      "           4       0.26      0.11      0.15      1000\n",
      "           5       0.20      0.06      0.09      1382\n",
      "           6       0.26      0.21      0.23      3694\n",
      "           7       0.23      0.02      0.04       889\n",
      "           8       0.26      0.06      0.10       142\n",
      "           9       1.00      0.99      1.00      5944\n",
      "\n",
      "    accuracy                           0.48     24004\n",
      "   macro avg       0.33      0.27      0.27     24004\n",
      "weighted avg       0.46      0.48      0.45     24004\n",
      "\n"
     ]
    }
   ],
   "source": [
    "from sklearn.metrics import classification_report\n",
    "\n",
    "y_pred = model.predict(X_test)\n",
    "\n",
    "report = classification_report(y_test, y_pred)\n",
    "print(report)"
   ]
  },
  {
   "cell_type": "code",
   "execution_count": null,
   "id": "1542e515-9f09-4aca-adfb-73c47c66c880",
   "metadata": {},
   "outputs": [],
   "source": []
  }
 ],
 "metadata": {
  "kernelspec": {
   "display_name": "Python 3 (ipykernel)",
   "language": "python",
   "name": "python3"
  },
  "language_info": {
   "codemirror_mode": {
    "name": "ipython",
    "version": 3
   },
   "file_extension": ".py",
   "mimetype": "text/x-python",
   "name": "python",
   "nbconvert_exporter": "python",
   "pygments_lexer": "ipython3",
   "version": "3.10.12"
  }
 },
 "nbformat": 4,
 "nbformat_minor": 5
}
